{
  "cells": [
    {
      "cell_type": "markdown",
      "id": "0e1bd41a-6f3d-4c2c-bdd2-8429fcf090e0",
      "metadata": {},
      "source": [
        "<h1>Data Science Tools and Ecosystem"
      ]
    },
    {
      "cell_type": "markdown",
      "id": "dc4d3e53",
      "metadata": {},
      "source": []
    },
    {
      "cell_type": "markdown",
      "id": "16ec0627-056c-4e97-b81b-ba5d0a718d8c",
      "metadata": {},
      "source": [
        "In this notebook, Data Science Tools and Ecosystem are summarized.\n",
        "\n"
      ]
    },
    {
      "cell_type": "markdown",
      "id": "0a716cf4-d5b7-45ad-a26b-a442a8b702a4",
      "metadata": {},
      "source": [
        "Objectives:\n",
        "\n",
        "List popular languages that Data Scientists use.\n",
        "List commonly used libraries used by Data Scientists.\n",
        "Comment on Data Science tools."
      ]
    },
    {
      "cell_type": "markdown",
      "id": "f77a530b-11cf-4696-b200-c773177cbd8f",
      "metadata": {},
      "source": [
        "Some of the popular languages that Data Scientists use are:\n"
      ]
    },
    {
      "cell_type": "markdown",
      "id": "a3e7e39b-b25b-4f50-9643-b8a011d6cb95",
      "metadata": {},
      "source": [
        "1. Python.\n",
        "2. R.\n",
        "3. SQL.\n",
        "4. Java.\n",
        "5. Julia.\n",
        "6. Scala.\n",
        "7. C/C++.\n",
        "8. JavaScript."
      ]
    },
    {
      "cell_type": "markdown",
      "id": "33dfb995-88de-4070-8fe5-ca705be65b9d",
      "metadata": {
        "jupyter": {
          "source_hidden": true
        }
      },
      "source": [
        "Some of the commonly used libraries used by Data Scientists include:\n",
        "1. TensorFlow\n",
        "2. NumPy\n",
        "3. SciPy\n",
        "4. Pandas\n",
        "5. Matplotlib\n",
        "6. Keras\n",
        "7. SciKit-Learn\n",
        "8. PyTorch\n",
        "9. Scrapy\n",
        "10. BeautifulSoup\n",
        "11. LightGBM\n",
        "12. ELI5\n",
        "13. Theano\n",
        "14. NuPIC\n",
        "15. Ramp\n",
        "16. Pipenv\n",
        "17. Bob\n",
        "18. PyBrain\n",
        "19. Caffe2\n",
        "20. Chainer"
      ]
    },
    {
      "cell_type": "markdown",
      "id": "b326065e-a3d3-4ba3-bdb2-5e2948fea4d5",
      "metadata": {},
      "source": [
        "Data Science Tools:\n",
        "\n",
        "SAS. It is one of those data science tools which are specifically designed for statistical operation\t\t\n",
        "Apache Spark\t\t\n",
        "BigML"
      ]
    },
    {
      "cell_type": "code",
      "execution_count": 2,
      "id": "849a0bf7-69ab-4116-ae7a-be046f70edff",
      "metadata": {
        "trusted": true
      },
      "outputs": [
        {
          "data": {
            "text/plain": [
              "9"
            ]
          },
          "execution_count": 2,
          "metadata": {},
          "output_type": "execute_result"
        }
      ],
      "source": [
        "# Arithmetic operations\n",
        "code = compile(\"5 + 4\", \"<string>\", \"eval\")\n",
        "eval(code)\n",
        "# Result: 9"
      ]
    },
    {
      "cell_type": "code",
      "execution_count": 3,
      "id": "aa88fdc4-8048-4897-b755-aa9706785c3e",
      "metadata": {
        "trusted": true
      },
      "outputs": [
        {
          "data": {
            "text/plain": [
              "17"
            ]
          },
          "execution_count": 3,
          "metadata": {},
          "output_type": "execute_result"
        }
      ],
      "source": [
        "(3*4)+5\n",
        "# Result: 17"
      ]
    },
    {
      "cell_type": "code",
      "execution_count": 4,
      "id": "5b39b4ce-8d2c-434c-a859-f746876b3ed2",
      "metadata": {
        "trusted": true
      },
      "outputs": [
        {
          "name": "stdout",
          "output_type": "stream",
          "text": [
            "0 days, 3.3333333333333335 hours, 0 mins. \n"
          ]
        }
      ],
      "source": [
        "days = 0\n",
        "hours = 0\n",
        "mins = 0\n",
        "\n",
        "time = 200\n",
        "#days = time / 1440\n",
        "leftover_minutes = time % 1440\n",
        "hours = leftover_minutes / 60\n",
        "#mins = time - (days*1440) - (hours*60)\n",
        "print(str(days) + \" days, \" + str(hours) + \" hours, \" + str(mins) +  \" mins. \")\n"
      ]
    },
    {
      "cell_type": "markdown",
      "id": "bf4e6aaa-4e30-45a1-9c55-9a3116a32b78",
      "metadata": {},
      "source": [
        "<h1>Sriya Prathuri"
      ]
    },
    {
      "cell_type": "code",
      "execution_count": null,
      "id": "35ed4a2f-fc5d-4b9e-8e53-045e56943d13",
      "metadata": {
        "trusted": true
      },
      "outputs": [],
      "source": [
        "print(\"hello world\")"
      ]
    }
  ],
  "metadata": {
    "kernelspec": {
      "display_name": "Python (Pyodide)",
      "language": "python",
      "name": "python"
    },
    "language_info": {
      "codemirror_mode": {
        "name": "python",
        "version": 3
      },
      "file_extension": ".py",
      "mimetype": "text/x-python",
      "name": "python",
      "nbconvert_exporter": "python",
      "pygments_lexer": "ipython3",
      "version": "3.8"
    }
  },
  "nbformat": 4,
  "nbformat_minor": 5
}
